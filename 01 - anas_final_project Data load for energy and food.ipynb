{
  "nbformat": 4,
  "nbformat_minor": 0,
  "metadata": {
    "colab": {
      "provenance": []
    },
    "kernelspec": {
      "name": "python3",
      "display_name": "Python 3"
    },
    "language_info": {
      "name": "python"
    }
  },
  "cells": [
    {
      "cell_type": "code",
      "execution_count": 3,
      "metadata": {
        "id": "kanYBwJklDeL"
      },
      "outputs": [],
      "source": [
        "# Import necessary libraries\n",
        "import pandas as pd\n",
        "from google.colab import drive\n",
        "import matplotlib.pyplot as plt\n",
        "from statsmodels.tsa.statespace.sarimax import SARIMAX\n",
        "from prophet import Prophet\n",
        "from scipy.stats import pearsonr"
      ]
    },
    {
      "cell_type": "code",
      "source": [
        "drive.mount('/content/drive')"
      ],
      "metadata": {
        "colab": {
          "base_uri": "https://localhost:8080/"
        },
        "id": "4baAraNTlRs4",
        "outputId": "e02ab93e-44a7-4b18-973b-a6342ded6cc8"
      },
      "execution_count": 4,
      "outputs": [
        {
          "output_type": "stream",
          "name": "stdout",
          "text": [
            "Mounted at /content/drive\n"
          ]
        }
      ]
    },
    {
      "cell_type": "code",
      "source": [
        "# Load data from Excel files\n",
        "energy_data = pd.read_excel(\"/content/drive/My Drive/energy.xlsx\", sheet_name=[\"Motor fuel inflation\", \"Gas inflation\"])\n",
        "food_data = pd.read_excel(\"/content/drive/My Drive/food.xlsx\", sheet_name=[\"Food inflation\", \"Restaurant and cafe inflation\"])\n"
      ],
      "metadata": {
        "id": "Uk4h0fUolRyg"
      },
      "execution_count": 5,
      "outputs": []
    },
    {
      "cell_type": "code",
      "source": [
        "energy_data"
      ],
      "metadata": {
        "colab": {
          "base_uri": "https://localhost:8080/"
        },
        "id": "EcuIIDWRlR2H",
        "outputId": "fe13192c-751c-4ce1-9c38-980e5337a91a"
      },
      "execution_count": 8,
      "outputs": [
        {
          "output_type": "execute_result",
          "data": {
            "text/plain": [
              "{'Motor fuel inflation':     Motor fuel prices fell by 9.2% in the year to January 2024  \\\n",
              " 0           Motor fuel annual CPIH inflation rates, UK           \n",
              " 1                                                  NaN           \n",
              " 2                                                Unit            \n",
              " 3                                                  NaN           \n",
              " 4                                                Date            \n",
              " ..                                                 ...           \n",
              " 136                                2023-09-01 00:00:00           \n",
              " 137                                2023-10-01 00:00:00           \n",
              " 138                                2023-11-01 00:00:00           \n",
              " 139                                2023-12-01 00:00:00           \n",
              " 140                                2024-01-01 00:00:00           \n",
              " \n",
              "                            Unnamed: 1  \n",
              " 0                                 NaN  \n",
              " 1                                 NaN  \n",
              " 2    Percentage change over 12 months  \n",
              " 3                                 NaN  \n",
              " 4                         Motor fuels  \n",
              " ..                                ...  \n",
              " 136                              -9.7  \n",
              " 137                              -7.6  \n",
              " 138                             -10.6  \n",
              " 139                             -10.8  \n",
              " 140                              -9.2  \n",
              " \n",
              " [141 rows x 2 columns],\n",
              " 'Gas inflation':     Gas price inflation fell by 26.5% in the year to January 2024  \\\n",
              " 0                  Gas annual CPIH inflation rates, UK              \n",
              " 1                                                  NaN              \n",
              " 2                                                Unit               \n",
              " 3                                                  NaN              \n",
              " 4                                                Date               \n",
              " ..                                                 ...              \n",
              " 136                                2023-09-01 00:00:00              \n",
              " 137                                2023-10-01 00:00:00              \n",
              " 138                                2023-11-01 00:00:00              \n",
              " 139                                2023-12-01 00:00:00              \n",
              " 140                                2024-01-01 00:00:00              \n",
              " \n",
              "                            Unnamed: 1  \n",
              " 0                                 NaN  \n",
              " 1                                 NaN  \n",
              " 2    Percentage change over 12 months  \n",
              " 3                                 NaN  \n",
              " 4                                Gas   \n",
              " ..                                ...  \n",
              " 136                               1.7  \n",
              " 137                               -31  \n",
              " 138                               -31  \n",
              " 139                               -31  \n",
              " 140                             -26.5  \n",
              " \n",
              " [141 rows x 2 columns]}"
            ]
          },
          "metadata": {},
          "execution_count": 8
        }
      ]
    },
    {
      "cell_type": "code",
      "source": [],
      "metadata": {
        "id": "cbC7CjnBlR4g"
      },
      "execution_count": null,
      "outputs": []
    },
    {
      "cell_type": "code",
      "source": [],
      "metadata": {
        "id": "ZhZK5l2UlR6b"
      },
      "execution_count": null,
      "outputs": []
    },
    {
      "cell_type": "code",
      "source": [],
      "metadata": {
        "id": "hcbZW4V6lR_v"
      },
      "execution_count": null,
      "outputs": []
    },
    {
      "cell_type": "code",
      "source": [],
      "metadata": {
        "id": "vv8adgL2lSEb"
      },
      "execution_count": null,
      "outputs": []
    }
  ]
}